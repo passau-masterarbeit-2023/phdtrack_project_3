{
 "cells": [
  {
   "attachments": {},
   "cell_type": "markdown",
   "metadata": {},
   "source": [
    "# Search for elements and addresses in heap dump mem files"
   ]
  },
  {
   "cell_type": "code",
   "execution_count": 46,
   "metadata": {},
   "outputs": [],
   "source": [
    "import os\n",
    "import json\n",
    "from dataclasses import dataclass"
   ]
  },
  {
   "cell_type": "code",
   "execution_count": 47,
   "metadata": {},
   "outputs": [
    {
     "name": "stdout",
     "output_type": "stream",
     "text": [
      "Program paths are OK.\n"
     ]
    }
   ],
   "source": [
    "\n",
    "@dataclass\n",
    "class ProgramParams:\n",
    "    \"\"\"\n",
    "    Wrapper class for program parameters.\n",
    "    \"\"\"\n",
    "    LINE_BLOCK_BYTE_SIZE = 16\n",
    "\n",
    "    JSON_TEST_FILE_PATH = os.environ['HOME'] + \"/Documents/code/phdtrack/phdtrack_project_3/data/302-1644391327.json\"\n",
    "    HEAP_DUMP_RAW_FILE_PATH = os.environ['HOME'] + \"/Documents/code/phdtrack/phdtrack_project_3/data/302-1644391327-heap.raw\"\n",
    "\n",
    "    def __init__(self, **kwargs):\n",
    "        if (\n",
    "            self.check_path_exists(self.JSON_TEST_FILE_PATH) and\n",
    "            self.check_path_exists(self.HEAP_DUMP_RAW_FILE_PATH)\n",
    "        ):\n",
    "            print(\"Program paths are OK.\")\n",
    "        else:\n",
    "            print(\"Program paths are NOT OK.\")\n",
    "            exit(1)\n",
    "    \n",
    "    def check_path_exists(self, path: str):\n",
    "        \"\"\"\n",
    "        Check if the path exists. Return True if it exists, False otherwise.\n",
    "        \"\"\"\n",
    "        if not os.path.exists(path):\n",
    "            print('WARNING: Path does not exist: %s' % path)\n",
    "            return False\n",
    "        return True\n",
    "\n",
    "\n",
    "\n",
    "PARAMS = ProgramParams()"
   ]
  },
  {
   "cell_type": "code",
   "execution_count": 48,
   "metadata": {},
   "outputs": [
    {
     "name": "stdout",
     "output_type": "stream",
     "text": [
      "Nb of keys: 6\n"
     ]
    }
   ],
   "source": [
    "# read the JSON file and get all pair of addresses and keys\n",
    "@dataclass\n",
    "class KeyData:\n",
    "    \"\"\"\n",
    "    Wrapper class for key data.\n",
    "    \"\"\"\n",
    "    name: str\n",
    "    key: bytes\n",
    "    addr: bytes\n",
    "    len: int\n",
    "    real_len: int\n",
    "\n",
    "heap_start_addr = None\n",
    "addr_key_pairs: dict[int, KeyData] = {} # key addr (int in base 16 - hex) -> key data (KeyData)\n",
    "\n",
    "with open(PARAMS.JSON_TEST_FILE_PATH, 'r') as f:\n",
    "    json_data = json.load(f)\n",
    "\n",
    "    heap_start_addr = bytes.fromhex(json_data[\"HEAP_START\"])\n",
    "    \n",
    "    for json_key_name in json_data:\n",
    "        # match json key names that start with 'KEY_' and are followed by a single letter\n",
    "        if json_key_name.startswith('KEY_') and len(json_key_name) == 5:\n",
    "            real_key_addr = bytes.fromhex(json_data[json_key_name + \"_ADDR\"])\n",
    "            addr_key_pairs[int.from_bytes(real_key_addr, byteorder='big', signed=False)] = KeyData(\n",
    "                name=json_key_name,\n",
    "                key=bytes.fromhex(json_data[json_key_name]),\n",
    "                addr=real_key_addr,\n",
    "                len=int(json_data[json_key_name + \"_LEN\"]),\n",
    "                real_len=int(json_data[json_key_name + \"_REAL_LEN\"])\n",
    "            )\n",
    "            # print(\n",
    "            #     'addr: ', hex(int.from_bytes(real_key_addr, byteorder='big', signed=False)), \n",
    "            #     'real key addr: ', json_data[json_key_name + \"_ADDR\"]\n",
    "            # )\n",
    "\n",
    "# print nb of keys\n",
    "print(\"Nb of keys: %d\" % len(addr_key_pairs))"
   ]
  },
  {
   "cell_type": "code",
   "execution_count": 52,
   "metadata": {},
   "outputs": [
    {
     "name": "stdout",
     "output_type": "stream",
     "text": [
      "00000000000000005102000000000000\n",
      "02040706070704070504070204060106\n",
      "06070107060702020201000000000001\n",
      "03010001000000000000000000000001\n",
      "00000000030200000000000000000000\n",
      "Number of dump lines: 17408 of size: 16 bytes\n",
      "key name: KEY_A index: 5537 index in hex: 0x15a1\n",
      "Key found: KEY_A\n",
      "key name: KEY_B index: 4533 index in hex: 0x11b5\n",
      "Key found: KEY_B\n",
      "key name: KEY_C index: 5546 index in hex: 0x15aa\n",
      "Key found: KEY_C\n",
      "key name: KEY_D index: 4537 index in hex: 0x11b9\n",
      "Key found: KEY_D\n",
      "key name: KEY_E index: 6069 index in hex: 0x17b5\n",
      "Key found: KEY_E\n",
      "key name: KEY_F index: 3620 index in hex: 0xe24\n",
      "Key found: KEY_F\n"
     ]
    }
   ],
   "source": [
    "# read the heap dump file and search for the keys\n",
    "with open(PARAMS.HEAP_DUMP_RAW_FILE_PATH, 'rb') as f:\n",
    "    heap_dump = f.read()\n",
    "\n",
    "    # split the heap dump into lines of 16 bytes\n",
    "    heap_dump_lines = [heap_dump[i:i+PARAMS.LINE_BLOCK_BYTE_SIZE] for i in range(0, len(heap_dump), PARAMS.LINE_BLOCK_BYTE_SIZE)]\n",
    "    \n",
    "    # print first 5 lines\n",
    "    for i in range(5):\n",
    "        print(heap_dump_lines[i].hex())\n",
    "    \n",
    "    print(\"Number of dump lines: %d\" % len(heap_dump_lines), \"of size:\", PARAMS.LINE_BLOCK_BYTE_SIZE, \"bytes\")\n",
    "\n",
    "    # go to known key addresses and check if the key is there\n",
    "    for key_addr in addr_key_pairs:\n",
    "        key_data = addr_key_pairs[key_addr]\n",
    "\n",
    "        # get the line index of the key address\n",
    "        # WARN: Need to divide the line index by 16 because the heap dump is in bytes\n",
    "        # and line addresses is the address of the first byte of the line.\n",
    "        # so each line address is 16 bytes apart.\n",
    "        line_index = (int.from_bytes(key_data.addr, byteorder='big', signed=False) - int.from_bytes(heap_start_addr, byteorder='big', signed=False)) // PARAMS.LINE_BLOCK_BYTE_SIZE\n",
    "        print(\"key name:\", key_data.name, \"index:\", line_index, \"index in hex:\", hex(line_index))\n",
    "        if (heap_dump_lines[line_index] == key_data.key):\n",
    "            print(\"Key found: %s\" % key_data.name)\n",
    "        else:\n",
    "            print(\"Key NOT found: %s\" % key_data.name)\n",
    "        \n",
    "    "
   ]
  }
 ],
 "metadata": {
  "kernelspec": {
   "display_name": "phdtrack",
   "language": "python",
   "name": "python3"
  },
  "language_info": {
   "codemirror_mode": {
    "name": "ipython",
    "version": 3
   },
   "file_extension": ".py",
   "mimetype": "text/x-python",
   "name": "python",
   "nbconvert_exporter": "python",
   "pygments_lexer": "ipython3",
   "version": "3.10.8"
  },
  "orig_nbformat": 4,
  "vscode": {
   "interpreter": {
    "hash": "828c4622dac9967a1e498ff679a89b1404201a56ae91cf46826d65c256cdc648"
   }
  }
 },
 "nbformat": 4,
 "nbformat_minor": 2
}
